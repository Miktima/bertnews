{
 "cells": [
  {
   "cell_type": "markdown",
   "id": "be6c3975",
   "metadata": {},
   "source": [
    "# Test Article"
   ]
  },
  {
   "cell_type": "markdown",
   "id": "333c2bfd",
   "metadata": {},
   "source": [
    "Загружаем библиотеки"
   ]
  },
  {
   "cell_type": "code",
   "execution_count": 1,
   "id": "1521b4a9",
   "metadata": {},
   "outputs": [],
   "source": [
    "from transformers import AutoTokenizer, AutoModel, pipeline"
   ]
  },
  {
   "cell_type": "code",
   "execution_count": 2,
   "id": "7fe23b7b",
   "metadata": {},
   "outputs": [
    {
     "data": {
      "application/vnd.jupyter.widget-view+json": {
       "model_id": "9d08896058f648fdb922047e7c6758bf",
       "version_major": 2,
       "version_minor": 0
      },
      "text/plain": [
       "tokenizer_config.json:   0%|          | 0.00/24.0 [00:00<?, ?B/s]"
      ]
     },
     "metadata": {},
     "output_type": "display_data"
    },
    {
     "data": {
      "application/vnd.jupyter.widget-view+json": {
       "model_id": "2665ed9410794a54b4f4c65568c1f7f7",
       "version_major": 2,
       "version_minor": 0
      },
      "text/plain": [
       "config.json:   0%|          | 0.00/642 [00:00<?, ?B/s]"
      ]
     },
     "metadata": {},
     "output_type": "display_data"
    },
    {
     "data": {
      "application/vnd.jupyter.widget-view+json": {
       "model_id": "35730f7049404446b167eeecdc56ae47",
       "version_major": 2,
       "version_minor": 0
      },
      "text/plain": [
       "vocab.txt:   0%|          | 0.00/1.65M [00:00<?, ?B/s]"
      ]
     },
     "metadata": {},
     "output_type": "display_data"
    },
    {
     "data": {
      "application/vnd.jupyter.widget-view+json": {
       "model_id": "5a80f3c108ec4f5583843fa730c231bf",
       "version_major": 2,
       "version_minor": 0
      },
      "text/plain": [
       "special_tokens_map.json:   0%|          | 0.00/112 [00:00<?, ?B/s]"
      ]
     },
     "metadata": {},
     "output_type": "display_data"
    },
    {
     "name": "stderr",
     "output_type": "stream",
     "text": [
      "Some weights of BertModel were not initialized from the model checkpoint at ../model/fine-train and are newly initialized: ['bert.pooler.dense.bias', 'bert.pooler.dense.weight']\n",
      "You should probably TRAIN this model on a down-stream task to be able to use it for predictions and inference.\n"
     ]
    }
   ],
   "source": [
    "modelpath = \"../model/fine-train\"\n",
    "# modelpath = \"DeepPavlov/rubert-base-cased\"\n",
    "tokenizer = AutoTokenizer.from_pretrained(\"DeepPavlov/rubert-base-cased\")\n",
    "model = AutoModel.from_pretrained(modelpath)"
   ]
  },
  {
   "cell_type": "code",
   "execution_count": 3,
   "id": "bc8c5866",
   "metadata": {},
   "outputs": [],
   "source": [
    "text = \"После начала российской военной спецоперации на Украине западные страны усилили санкционное давление на Москву. МИД России призвал стороны прекратить боевые действия.\""
   ]
  },
  {
   "cell_type": "code",
   "execution_count": 8,
   "id": "e8d0ff3e",
   "metadata": {},
   "outputs": [],
   "source": [
    "import re\n",
    "\n",
    "tr = 0.001\n",
    "\n",
    "def mask_bert_sent(text, model, tokenizer):\n",
    "    unmasker = pipeline(\"fill-mask\", model=model, tokenizer=tokenizer)\n",
    "    p = re.compile(r'[\\w-]+')\n",
    "    iter = p.finditer(text)\n",
    "    listErr = []\n",
    "    for match in iter:\n",
    "        if match.start() == 0:\n",
    "            masktext = \"[MASK]\" + text[match.end():]\n",
    "        elif match.end() == len(text):\n",
    "            masktext = text[:match.start()] + \"[MASK]\"\n",
    "        else:\n",
    "            masktext = text[:match.start()] + \"[MASK]\" + text[match.end():]\n",
    "        \n",
    "        res = unmasker(masktext, targets=[match.group()])\n",
    "        if res[0]['score'] < tr:\n",
    "            errorrDesc = {\n",
    "                \"word\": match.group(),\n",
    "                \"start\": match.start(),\n",
    "                \"end\": match.end(),\n",
    "                \"prob\": res[0]['score']\n",
    "            }\n",
    "            listErr.append(errorrDesc)\n",
    "    return listErr\n"
   ]
  },
  {
   "cell_type": "code",
   "execution_count": 9,
   "id": "468df5a5",
   "metadata": {},
   "outputs": [
    {
     "name": "stderr",
     "output_type": "stream",
     "text": [
      "The specified target token `санкционное` does not exist in the model vocabulary. Replacing with `санкцион`.\n"
     ]
    },
    {
     "name": "stdout",
     "output_type": "stream",
     "text": [
      "{'word': 'спецоперации', 'start': 32, 'end': 44, 'prob': 0.0008229818195104599}\n",
      "{'word': 'санкционное', 'start': 80, 'end': 91, 'prob': 3.635902612586506e-05}\n"
     ]
    }
   ],
   "source": [
    "errors = mask_bert_sent(text, modelpath, tokenizer)\n",
    "if len(errors) > 0:\n",
    "    for e in errors:\n",
    "        print (e)"
   ]
  }
 ],
 "metadata": {
  "kernelspec": {
   "display_name": "bertnews",
   "language": "python",
   "name": "python3"
  },
  "language_info": {
   "codemirror_mode": {
    "name": "ipython",
    "version": 3
   },
   "file_extension": ".py",
   "mimetype": "text/x-python",
   "name": "python",
   "nbconvert_exporter": "python",
   "pygments_lexer": "ipython3",
   "version": "3.10.12"
  }
 },
 "nbformat": 4,
 "nbformat_minor": 5
}
