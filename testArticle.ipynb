{
 "cells": [
  {
   "cell_type": "markdown",
   "id": "be6c3975",
   "metadata": {},
   "source": [
    "# Test Article"
   ]
  },
  {
   "cell_type": "markdown",
   "id": "333c2bfd",
   "metadata": {},
   "source": [
    "Загружаем библиотеки"
   ]
  },
  {
   "cell_type": "code",
   "execution_count": 10,
   "id": "1521b4a9",
   "metadata": {},
   "outputs": [],
   "source": [
    "from transformers import AutoTokenizer, AutoModel, pipeline"
   ]
  },
  {
   "cell_type": "code",
   "execution_count": 52,
   "id": "7fe23b7b",
   "metadata": {},
   "outputs": [
    {
     "name": "stderr",
     "output_type": "stream",
     "text": [
      "Some weights of the model checkpoint at DeepPavlov/rubert-base-cased were not used when initializing BertModel: ['cls.predictions.decoder.weight', 'cls.seq_relationship.bias', 'cls.seq_relationship.weight', 'cls.predictions.transform.LayerNorm.bias', 'cls.predictions.decoder.bias', 'cls.predictions.transform.dense.bias', 'cls.predictions.transform.dense.weight', 'cls.predictions.bias', 'cls.predictions.transform.LayerNorm.weight']\n",
      "- This IS expected if you are initializing BertModel from the checkpoint of a model trained on another task or with another architecture (e.g. initializing a BertForSequenceClassification model from a BertForPreTraining model).\n",
      "- This IS NOT expected if you are initializing BertModel from the checkpoint of a model that you expect to be exactly identical (initializing a BertForSequenceClassification model from a BertForSequenceClassification model).\n"
     ]
    }
   ],
   "source": [
    "modelpath = \"../model/fine-train\"\n",
    "# modelpath = \"DeepPavlov/rubert-base-cased\"\n",
    "tokenizer = AutoTokenizer.from_pretrained(\"DeepPavlov/rubert-base-cased\")\n",
    "model = AutoModel.from_pretrained(modelpath)"
   ]
  },
  {
   "cell_type": "code",
   "execution_count": 53,
   "id": "bc8c5866",
   "metadata": {},
   "outputs": [],
   "source": [
    "text = \"После начала российской военной спецоперации на Украине западные страны усилили санкционное давление на Москву. МИД России призвал стороны прекратить боевые действия.\""
   ]
  },
  {
   "cell_type": "code",
   "execution_count": 56,
   "id": "e8d0ff3e",
   "metadata": {},
   "outputs": [],
   "source": [
    "import re\n",
    "\n",
    "tr = 0.001\n",
    "\n",
    "def mask_bert_sent(text, model):\n",
    "    unmasker = pipeline(\"fill-mask\", model=model)\n",
    "    p = re.compile(r'[\\w-]+')\n",
    "    iter = p.finditer(text)\n",
    "    listErr = []\n",
    "    for match in iter:\n",
    "        if match.start() == 0:\n",
    "            masktext = \"[MASK]\" + text[match.end():]\n",
    "        elif match.end() == len(text):\n",
    "            masktext = text[:match.start()] + \"[MASK]\"\n",
    "        else:\n",
    "            masktext = text[:match.start()] + \"[MASK]\" + text[match.end():]\n",
    "        \n",
    "        res = unmasker(masktext, targets=[match.group()])\n",
    "        if res[0]['score'] < tr:\n",
    "            errorrDesc = {\n",
    "                \"word\": match.group(),\n",
    "                \"start\": match.start(),\n",
    "                \"end\": match.end()\n",
    "            }\n",
    "            listErr.append(errorrDesc)\n",
    "    return listErr\n"
   ]
  },
  {
   "cell_type": "code",
   "execution_count": 57,
   "id": "468df5a5",
   "metadata": {},
   "outputs": [
    {
     "name": "stderr",
     "output_type": "stream",
     "text": [
      "The specified target token `санкционное` does not exist in the model vocabulary. Replacing with `санкцион`.\n"
     ]
    },
    {
     "name": "stdout",
     "output_type": "stream",
     "text": [
      "{'word': 'спецоперации', 'start': 32, 'end': 44}\n",
      "{'word': 'санкционное', 'start': 80, 'end': 91}\n"
     ]
    }
   ],
   "source": [
    "errors = mask_bert_sent(text, modelpath)\n",
    "if len(errors) > 0:\n",
    "    for e in errors:\n",
    "        print (e)"
   ]
  }
 ],
 "metadata": {
  "kernelspec": {
   "display_name": "bertnews",
   "language": "python",
   "name": "python3"
  },
  "language_info": {
   "codemirror_mode": {
    "name": "ipython",
    "version": 3
   },
   "file_extension": ".py",
   "mimetype": "text/x-python",
   "name": "python",
   "nbconvert_exporter": "python",
   "pygments_lexer": "ipython3",
   "version": "3.10.12"
  }
 },
 "nbformat": 4,
 "nbformat_minor": 5
}
