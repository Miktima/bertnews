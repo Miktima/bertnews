{
 "cells": [
  {
   "cell_type": "markdown",
   "id": "be6c3975",
   "metadata": {},
   "source": [
    "# Test Article"
   ]
  },
  {
   "cell_type": "markdown",
   "id": "333c2bfd",
   "metadata": {},
   "source": [
    "Загружаем библиотеки"
   ]
  },
  {
   "cell_type": "code",
   "execution_count": 13,
   "id": "1521b4a9",
   "metadata": {},
   "outputs": [],
   "source": [
    "from transformers import AutoTokenizer, AutoModel, pipeline, logging"
   ]
  },
  {
   "cell_type": "code",
   "execution_count": 14,
   "id": "7fe23b7b",
   "metadata": {},
   "outputs": [],
   "source": [
    "modelpath = \"../model/fine-train\"\n",
    "# modelpath = \"DeepPavlov/rubert-base-cased\"\n",
    "tokenizer = AutoTokenizer.from_pretrained(\"ai-forever/ruBert-base\")\n",
    "model = AutoModel.from_pretrained(modelpath)"
   ]
  },
  {
   "cell_type": "code",
   "execution_count": 15,
   "id": "bc8c5866",
   "metadata": {},
   "outputs": [],
   "source": [
    "text = '''Ранее в четверг лидеры Европейского союз единогласно согласовали выделение Украине макрофинансовой помощи в размере 50 миллиардов евро на период до 2027 года с условием ежегодной отчетности со стороны ЕК и дебатов в Евросовете. Как сообщил премьер-министр Польши Дональд Туск, главу венгерского правительства Виктора Орбана \"удалось убедить\".\n",
    "Позиция Будапешта оставалась главным препятствием для выделения денег киевским властям. Как выяснила газета Financial Times, лидеры стран Евросоюза могли публично объявить на саммите о неконструктивном поведении Орбана и отказать Венгрии в разморозке средств из европейских фондов.\n",
    "Как подчеркивал сам венгерский премьер, такое развитие событий привело бы к армагеддону. Он заявил, что европейцам 50 миллиардов евро нужны не меньше, чем украинцам, но предложил компромисс: не выделять всю сумму сразу на четыре года, а утверждать финансирование для Киева ежегодно и единогласно.'''"
   ]
  },
  {
   "cell_type": "code",
   "execution_count": 16,
   "id": "e8d0ff3e",
   "metadata": {},
   "outputs": [],
   "source": [
    "import re\n",
    "\n",
    "tr = 0.0001\n",
    "logging.set_verbosity_error()\n",
    "\n",
    "def mask_bert_sent(text, model, tokenizer):\n",
    "    unmasker = pipeline(\"fill-mask\", model=model, tokenizer=tokenizer)\n",
    "    p = re.compile(r'[\\w-]+')\n",
    "    iter = p.finditer(text)\n",
    "    listErr = []\n",
    "    for match in iter:\n",
    "        if match.start() == 0:\n",
    "            masktext = \"[MASK]\" + text[match.end():]\n",
    "        elif match.end() == len(text):\n",
    "            masktext = text[:match.start()] + \"[MASK]\"\n",
    "        else:\n",
    "            masktext = text[:match.start()] + \"[MASK]\" + text[match.end():]\n",
    "        \n",
    "        res = unmasker(masktext, targets=[match.group()])\n",
    "        if res[0]['score'] < tr:\n",
    "            errorrDesc = {\n",
    "                \"word\": match.group(),\n",
    "                \"start\": match.start(),\n",
    "                \"end\": match.end(),\n",
    "                \"prob\": res[0]['score']\n",
    "            }\n",
    "            listErr.append(errorrDesc)\n",
    "    return listErr\n"
   ]
  },
  {
   "cell_type": "code",
   "execution_count": 17,
   "id": "468df5a5",
   "metadata": {},
   "outputs": [
    {
     "name": "stdout",
     "output_type": "stream",
     "text": [
      "{'word': 'европейского', 'start': 23, 'end': 35, 'prob': 9.819237675401382e-06}\n",
      "{'word': 'союз', 'start': 36, 'end': 40, 'prob': 6.908896466484293e-06}\n",
      "{'word': 'единогласно', 'start': 41, 'end': 52, 'prob': 1.4520525155603536e-06}\n",
      "{'word': 'ек', 'start': 201, 'end': 203, 'prob': 5.047909780842019e-06}\n",
      "{'word': 'виктора', 'start': 309, 'end': 316, 'prob': 1.102602527680574e-05}\n",
      "{'word': 'орбана', 'start': 317, 'end': 323, 'prob': 1.9512188373482786e-05}\n",
      "{'word': 'будапешта', 'start': 351, 'end': 360, 'prob': 1.720545333228074e-05}\n",
      "{'word': 'неконструктивном', 'start': 528, 'end': 544, 'prob': 2.6694253392633982e-05}\n",
      "{'word': 'орбана', 'start': 555, 'end': 561, 'prob': 1.043819821688885e-07}\n",
      "{'word': 'венгрии', 'start': 573, 'end': 580, 'prob': 1.319154421253188e-06}\n",
      "{'word': 'разморозке', 'start': 583, 'end': 593, 'prob': 1.726279919012086e-08}\n",
      "{'word': 'армагеддону', 'start': 701, 'end': 712, 'prob': 4.920724383516983e-10}\n"
     ]
    }
   ],
   "source": [
    "text = text.casefold()\n",
    "errors = mask_bert_sent(text, modelpath, tokenizer)\n",
    "if len(errors) > 0:\n",
    "    for e in errors:\n",
    "        print (e)"
   ]
  }
 ],
 "metadata": {
  "kernelspec": {
   "display_name": "bertnews",
   "language": "python",
   "name": "python3"
  },
  "language_info": {
   "codemirror_mode": {
    "name": "ipython",
    "version": 3
   },
   "file_extension": ".py",
   "mimetype": "text/x-python",
   "name": "python",
   "nbconvert_exporter": "python",
   "pygments_lexer": "ipython3",
   "version": "3.10.12"
  }
 },
 "nbformat": 4,
 "nbformat_minor": 5
}
