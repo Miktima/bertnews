{
 "cells": [
  {
   "cell_type": "markdown",
   "id": "be6c3975",
   "metadata": {},
   "source": [
    "# Results Fine-tune masked BERT models"
   ]
  },
  {
   "cell_type": "markdown",
   "id": "333c2bfd",
   "metadata": {},
   "source": [
    "Загружаем библиотеки"
   ]
  },
  {
   "cell_type": "code",
   "execution_count": null,
   "id": "1521b4a9",
   "metadata": {},
   "outputs": [
    {
     "ename": "",
     "evalue": "",
     "output_type": "error",
     "traceback": [
      "\u001b[1;31mДля выполнения ячеек с \"bertnews\" требуется пакет ipykernel.\n",
      "\u001b[1;31mВыполните следующую команду, чтобы установить \"ipykernel\" в среде Python. \n",
      "\u001b[1;31mКоманда: \"c:/dev/bertnews/Scripts/python.exe -m pip install ipykernel -U --force-reinstall\""
     ]
    }
   ],
   "source": [
    "import pandas as pd\n",
    "import numpy as np\n",
    "from matplotlib import pyplot as plt\n",
    "%matplotlib inline"
   ]
  },
  {
   "cell_type": "markdown",
   "id": "e4366c89",
   "metadata": {},
   "source": [
    "## model_checkpoint = \"cointegrated/rubert-tiny2\"\n",
    "1041 Статей<br>\n",
    "Chunk_size = 128<br>\n",
    "Token Masking = 15%<br>\n",
    "Word masking = not used<br>\n",
    "optimizer = 5e-5<br>\n",
    "\n",
    "Batch_size = 8\n",
    "> Epoch 0: Perplexity: 23.752174035692775<br>\n",
    "> Epoch 1: Perplexity: 22.264086104828575<br>\n",
    "> Epoch 2: Perplexity: 21.668571321747237<br>\n",
    "\n",
    "Batch_size = 16\n",
    "> Epoch 0: Perplexity: 28.378081127364357<br>\n",
    "> Epoch 1: Perplexity: 26.57814176820188<br>\n",
    "> Epoch 2: Perplexity: 26.01208851248496<br>\n",
    "\n",
    "Batch_size = 32\n",
    "> Epoch 0: Perplexity: 21.458561944509718<br>\n",
    "> Epoch 1: Perplexity: 21.091730704469818<br>\n",
    "> Epoch 2: Perplexity: 20.926061825161486<br>\n",
    "\n",
    "Batch_size = 64\n",
    "> Epoch 0: Perplexity: 20.73311296591544<br>\n",
    "> Epoch 1: Perplexity: 20.56676932732359<br>\n",
    "> Epoch 2: Perplexity: 20.425033950502666<br>\n"
   ]
  },
  {
   "cell_type": "markdown",
   "id": "c012ca6c",
   "metadata": {},
   "source": [
    "## model_checkpoint = \"DeepPavlov/rubert-base-cased\"\n",
    "1041 Статей<br>\n",
    "Chunk_size = 256<br>\n",
    "Word masking = not used<br>\n",
    "optimizer = 5e-5<br>\n",
    "Batch_size = 8<br>\n",
    "\n",
    "Token Masking = 15%<br>\n",
    "> Epoch 0: Perplexity: 4.5100643270911185<br>\n",
    "> Epoch 1: Perplexity: 4.253410972926003<br>\n",
    "> Epoch 2: Perplexity: 4.113079645268402<br>\n",
    "> Epoch 3: Perplexity: 4.004825654784288<br>\n",
    "> Epoch 4: Perplexity: 3.9476743209765575<br>\n",
    "> Epoch 5: Perplexity: 3.8806972758328775<br>\n",
    "> Epoch 6: Perplexity: 3.864064535109244<br>\n",
    "\n",
    "Token Masking = 20%<br>\n",
    "> Epoch 0: Perplexity: 5.308671859716367<br>\n",
    "> Epoch 1: Perplexity: 5.091008665010391<br>\n",
    "> Epoch 2: Perplexity: 4.95541379899819<br>\n",
    "> Epoch 3: Perplexity: 4.807857621939344<br>\n",
    "> Epoch 4: Perplexity: 4.724901292024913<br>\n",
    "> Epoch 5: Perplexity: 4.631610946300589<br>\n",
    "> Epoch 6: Perplexity: 4.594810967020825<br>\n",
    "\n",
    "Token Masking = 10%<br>\n",
    "> Epoch 0: Perplexity: 4.055735532121577<br>\n",
    "> Epoch 1: Perplexity: 3.75620388399579<br>\n",
    "> Epoch 2: Perplexity: 3.771912774766358<br>\n",
    "> Epoch 3: Perplexity: 3.627333933327193<br>\n",
    "> Epoch 4: Perplexity: 3.5526672009353897<br>\n",
    "> Epoch 5: Perplexity: 3.5023604709428984<br>\n",
    "> Epoch 6: Perplexity: 3.4707565852153337<br>\n",
    "\n",
    "Token Masking = 7%<br>\n",
    "> Epoch 0: Perplexity: 4.093604405428983<br>\n",
    "> Epoch 1: Perplexity: 3.849095414329382<br>\n",
    "> Epoch 2: Perplexity: 3.6765055905438198<br>\n",
    "> Epoch 3: Perplexity: 3.6107969636255888<br>\n",
    "> Epoch 4: Perplexity: 3.526441579578241<br>\n",
    "> Epoch 5: Perplexity: 3.4619136959328407<br>\n",
    "> Epoch 6: Perplexity: 3.419923531859224<br>\n",
    "\n",
    "Token Masking = 12%<br>\n",
    "> Epoch 0: Perplexity: 4.065380832545354<br>\n",
    "> Epoch 1: Perplexity: 3.8821774639637123<br>\n",
    "> Epoch 2: Perplexity: 3.732269902690238<br>\n",
    "> Epoch 3: Perplexity: 3.6320528844024254<br>\n",
    "> Epoch 4: Perplexity: 3.597238211459087<br>\n",
    "> Epoch 5: Perplexity: 3.5451371213479623<br>\n",
    "> Epoch 6: Perplexity: 3.511220029792965<br>"
   ]
  },
  {
   "cell_type": "code",
   "execution_count": null,
   "id": "1e54cbdc",
   "metadata": {},
   "outputs": [
    {
     "ename": "",
     "evalue": "",
     "output_type": "error",
     "traceback": [
      "\u001b[1;31mДля выполнения ячеек с \"bertnews\" требуется пакет ipykernel.\n",
      "\u001b[1;31mВыполните следующую команду, чтобы установить \"ipykernel\" в среде Python. \n",
      "\u001b[1;31mКоманда: \"c:/dev/bertnews/Scripts/python.exe -m pip install ipykernel -U --force-reinstall\""
     ]
    }
   ],
   "source": [
    "fig, ax = plt.subplots()\n",
    "epoch = [0, 1, 2, 3, 4, 5, 6]\n",
    "m20 = [5.308671859716367, 5.091008665010391, 4.95541379899819, 4.807857621939344,\\\n",
    "       4.724901292024913, 4.631610946300589, 4.594810967020825]\n",
    "m15 = [4.5100643270911185, 4.253410972926003, 4.113079645268402, 4.004825654784288,\\\n",
    "       3.9476743209765575, 3.8806972758328775, 3.864064535109244]\n",
    "m12 = [4.065380832545354, 3.8821774639637123, 3.732269902690238, 3.6320528844024254,\\\n",
    "       3.597238211459087, 3.5451371213479623, 3.511220029792965]\n",
    "m10 = [4.055735532121577, 3.75620388399579, 3.771912774766358, 3.627333933327193,\\\n",
    "       3.5526672009353897, 3.5023604709428984, 3.4707565852153337]\n",
    "m07 = [4.093604405428983, 3.849095414329382, 3.6765055905438198, 3.6107969636255888,\\\n",
    "       3.526441579578241, 3.4619136959328407, 3.419923531859224]\n",
    "ax.plot(epoch, m20, label=\"20% masking\")\n",
    "ax.plot(epoch, m15, label=\"15% masking\")\n",
    "ax.plot(epoch, m12, label=\"12% masking\")\n",
    "ax.plot(epoch, m10, label=\"10% masking\")\n",
    "ax.plot(epoch, m07, label=\"7% masking\")\n",
    "ax.legend()"
   ]
  },
  {
   "cell_type": "markdown",
   "id": "6ce14fa4",
   "metadata": {},
   "source": [
    "1041 Статей<br>\n",
    "Chunk_size = 256<br>\n",
    "Token Masking = 12%<br>\n",
    "Word masking = not used<br>\n",
    "Batch_size = 8<br>\n",
    "optimizer = 5e-5<br>\n",
    "> Epoch 0: Perplexity: 4.224178259440433<br>\n",
    "> Epoch 1: Perplexity: 3.9988796048554236<br>\n",
    "> Epoch 2: Perplexity: 3.8868665214237503<br>\n",
    "> Epoch 3: Perplexity: 3.7514886472246856<br>\n",
    "> Epoch 4: Perplexity: 3.6852424212459605<br>\n",
    "> Epoch 5: Perplexity: 3.6165608535995224<br>\n",
    "> Epoch 6: Perplexity: 3.592289556476496<br>\n",
    "\n",
    "optimizer = 1e-4<br>\n",
    "> Epoch 0: Perplexity: 5.118306925097247<br>\n",
    "> Epoch 1: Perplexity: 4.925083155597946<br>\n",
    "> Epoch 2: Perplexity: 4.868365757930615<br>\n",
    "> Epoch 3: Perplexity: 4.744709467308141<br>\n",
    "> Epoch 4: Perplexity: 4.544373656539365<br>\n",
    "> Epoch 5: Perplexity: 4.505555232291658<br>\n",
    "> Epoch 6: Perplexity: 4.436573525280565<br>\n",
    "\n",
    "optimizer = 1e-5<br>\n",
    "> Epoch 0: Perplexity: 4.525932171624536<br>\n",
    "> Epoch 1: Perplexity: 4.261861674343407<br>\n",
    "> Epoch 2: Perplexity: 4.155021481552966<br>\n",
    "> Epoch 3: Perplexity: 4.085093348973027<br>\n",
    "> Epoch 4: Perplexity: 4.034726303980052<br>\n",
    "> Epoch 5: Perplexity: 4.0025791048671415<br>\n",
    "> Epoch 6: Perplexity: 3.989146693698521<br>\n",
    "\n",
    "optimizer = 3e-5<br>\n",
    "> Epoch 0: Perplexity: 4.112695254466216<br>\n",
    "> Epoch 1: Perplexity: 3.882947162715393<br>\n",
    "> Epoch 2: Perplexity: 3.692531268162902<br>\n",
    "> Epoch 3: Perplexity: 3.6286915282737082<br>\n",
    "> Epoch 4: Perplexity: 3.5821701003800968<br>\n",
    "> Epoch 5: Perplexity: 3.535165664604343<br>\n",
    "> Epoch 6: Perplexity: 3.52135565433895<br>"
   ]
  },
  {
   "cell_type": "code",
   "execution_count": null,
   "id": "47b4e7f5",
   "metadata": {},
   "outputs": [
    {
     "ename": "",
     "evalue": "",
     "output_type": "error",
     "traceback": [
      "\u001b[1;31mДля выполнения ячеек с \"bertnews\" требуется пакет ipykernel.\n",
      "\u001b[1;31mВыполните следующую команду, чтобы установить \"ipykernel\" в среде Python. \n",
      "\u001b[1;31mКоманда: \"c:/dev/bertnews/Scripts/python.exe -m pip install ipykernel -U --force-reinstall\""
     ]
    }
   ],
   "source": [
    "fig, ax = plt.subplots()\n",
    "epoch = [0, 1, 2, 3, 4, 5, 6]\n",
    "adam5e5 = [4.224178259440433, 3.9988796048554236, 3.8868665214237503, 3.7514886472246856,\\\n",
    "           3.6852424212459605, 3.6165608535995224, 3.592289556476496]\n",
    "adam1e4 = [5.118306925097247, 4.925083155597946, 4.868365757930615, 4.744709467308141,\\\n",
    "            4.544373656539365, 4.505555232291658, 4.436573525280565]\n",
    "adam1e5 = [4.525932171624536, 4.261861674343407, 4.155021481552966, 4.085093348973027, \\\n",
    "           4.034726303980052, 4.0025791048671415, 3.989146693698521]\n",
    "adam3e5 = [4.112695254466216, 3.882947162715393, 3.692531268162902, 3.6286915282737082, \\\n",
    "            3.5821701003800968, 3.535165664604343, 3.52135565433895]\n",
    "ax.plot(epoch, adam5e5, label=\"AdamW 5e-5\")\n",
    "ax.plot(epoch, adam1e4, label=\"AdamW 1e-4\")\n",
    "ax.plot(epoch, adam1e5, label=\"AdamW 1e-5\")\n",
    "ax.plot(epoch, adam3e5, label=\"AdamW 3e-5\")\n",
    "ax.legend()"
   ]
  },
  {
   "cell_type": "markdown",
   "id": "c2cf0bd9",
   "metadata": {},
   "source": [
    "1634 Статьи<br>\n",
    "Chunk_size = 256<br>\n",
    "Token Masking = 12%<br>\n",
    "Word masking = not used<br>\n",
    "Batch_size = 8<br>\n",
    "optimizer = 3e-5<br>\n",
    "> Epoch 0: Perplexity: 3.968425635056061<br>\n",
    "> Epoch 1: Perplexity: 3.780129118066792<br>\n",
    "> Epoch 2: Perplexity: 3.6876660407966404<br>\n",
    "> Epoch 3: Perplexity: 3.6018342812118256<br>\n",
    "> Epoch 4: Perplexity: 3.5593696467588876<br>\n",
    "> Epoch 5: Perplexity: 3.502259016533815<br>\n",
    "> Epoch 6: Perplexity: 3.488454043567677<br>"
   ]
  },
  {
   "cell_type": "markdown",
   "id": "54df0dd7",
   "metadata": {},
   "source": [
    "3634 Статьи<br>\n",
    "Chunk_size = 256<br>\n",
    "Token Masking = 12%<br>\n",
    "Word masking = not used<br>\n",
    "Batch_size = 8<br>\n",
    "optimizer = 3e-5<br>\n"
   ]
  },
  {
   "cell_type": "markdown",
   "id": "6a2de44a",
   "metadata": {},
   "source": [
    "## Number of articles"
   ]
  },
  {
   "cell_type": "code",
   "execution_count": null,
   "id": "e1064c8b",
   "metadata": {},
   "outputs": [
    {
     "ename": "",
     "evalue": "",
     "output_type": "error",
     "traceback": [
      "\u001b[1;31mДля выполнения ячеек с \"bertnews\" требуется пакет ipykernel.\n",
      "\u001b[1;31mВыполните следующую команду, чтобы установить \"ipykernel\" в среде Python. \n",
      "\u001b[1;31mКоманда: \"c:/dev/bertnews/Scripts/python.exe -m pip install ipykernel -U --force-reinstall\""
     ]
    }
   ],
   "source": [
    "fig, ax = plt.subplots()\n",
    "nart = [1041, 1634, 3634]\n",
    "perp = [3.52135565433895, 3.488454043567677, 3.488454043567677]\n",
    "\n",
    "ax.plot(nart, perp)\n"
   ]
  }
 ],
 "metadata": {
  "kernelspec": {
   "display_name": "bertnews",
   "language": "python",
   "name": "python3"
  },
  "language_info": {
   "codemirror_mode": {
    "name": "ipython",
    "version": 3
   },
   "file_extension": ".py",
   "mimetype": "text/x-python",
   "name": "python",
   "nbconvert_exporter": "python",
   "pygments_lexer": "ipython3",
   "version": "3.10.12"
  }
 },
 "nbformat": 4,
 "nbformat_minor": 5
}
