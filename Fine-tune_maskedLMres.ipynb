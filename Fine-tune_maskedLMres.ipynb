{
 "cells": [
  {
   "cell_type": "markdown",
   "id": "be6c3975",
   "metadata": {},
   "source": [
    "# Results Fine-tune masked BERT models"
   ]
  },
  {
   "cell_type": "markdown",
   "id": "333c2bfd",
   "metadata": {},
   "source": [
    "Загружаем библиотеки"
   ]
  },
  {
   "cell_type": "code",
   "execution_count": 1,
   "id": "1521b4a9",
   "metadata": {},
   "outputs": [],
   "source": [
    "import pandas as pd\n",
    "import numpy as np"
   ]
  },
  {
   "cell_type": "markdown",
   "id": "f23d3c50",
   "metadata": {},
   "source": [
    "## model_checkpoint = \"cointegrated/rubert-tiny2\"\n",
    "691 Статья<br>\n",
    "Chunk_size = 128<br>\n",
    "Token Masking = 15%<br>\n",
    "Word masking = not used<br>\n",
    "optimizer = 5e-5<br>\n",
    "\n",
    "Batch_size = 8\n",
    "> Epoch 0: Perplexity: 25.859749658270967<br>\n",
    "> Epoch 1: Perplexity: 24.45774898910658<br>\n",
    "> Epoch 2: Perplexity: 24.034025106023474<br>\n",
    "\n",
    "Batch_size = 16\n",
    "> Epoch 0: Perplexity: 23.56299014907399<br>\n",
    "> Epoch 1: Perplexity: 23.156633734027608<br>\n",
    "> Epoch 2: Perplexity: 22.929135180142353<br>\n",
    "\n",
    "Batch_size = 32\n",
    "> Epoch 0: Perplexity: 22.986306350727922<br>\n",
    "> Epoch 1: Perplexity: 22.878367260622813<br>\n",
    "> Epoch 2: Perplexity: 22.844263098751934<br>"
   ]
  },
  {
   "cell_type": "markdown",
   "id": "e4366c89",
   "metadata": {},
   "source": [
    "## model_checkpoint = \"cointegrated/rubert-tiny2\"\n",
    "1041 Статей<br>\n",
    "Chunk_size = 128<br>\n",
    "Token Masking = 15%<br>\n",
    "Word masking = not used<br>\n",
    "optimizer = 5e-5<br>\n",
    "\n",
    "Batch_size = 8\n",
    "> Epoch 0: Perplexity: 23.752174035692775<br>\n",
    "> Epoch 1: Perplexity: 22.264086104828575<br>\n",
    "> Epoch 2: Perplexity: 21.668571321747237<br>\n",
    "\n",
    "Batch_size = 16\n",
    "> Epoch 0: Perplexity: 28.378081127364357<br>\n",
    "> Epoch 1: Perplexity: 26.57814176820188<br>\n",
    "> Epoch 2: Perplexity: 26.01208851248496<br>\n",
    "\n",
    "Batch_size = 32\n",
    "> Epoch 0: Perplexity: 21.458561944509718<br>\n",
    "> Epoch 1: Perplexity: 21.091730704469818<br>\n",
    "> Epoch 2: Perplexity: 20.926061825161486<br>\n",
    "\n",
    "Batch_size = 64\n",
    "> Epoch 0: Perplexity: 20.73311296591544<br>\n",
    "> Epoch 1: Perplexity: 20.56676932732359<br>\n",
    "> Epoch 2: Perplexity: 20.425033950502666<br>\n"
   ]
  },
  {
   "cell_type": "markdown",
   "id": "c012ca6c",
   "metadata": {},
   "source": [
    "## model_checkpoint = \"DeepPavlov/rubert-base-cased\"\n",
    "1041 Статей<br>\n",
    "Chunk_size = 256<br>\n",
    "Token Masking = 15%<br>\n",
    "Word masking = not used<br>\n",
    "optimizer = 5e-5<br>\n",
    "\n",
    "Batch_size = 8\n",
    "> Epoch 0: Perplexity: 4.151042523941301<br>\n",
    "> Epoch 1: Perplexity: 4.0827579685557716<br>\n",
    "> Epoch 2: Perplexity: 4.001436029631543<br>\n",
    "> Epoch 3: Perplexity: 3.9783185525317575<br>\n",
    "> Epoch 4: Perplexity: 3.9292206757811727<br>\n",
    "> Epoch 5: Perplexity: 3.8806838600162763<br>\n",
    "> Epoch 6: Perplexity: 3.862663084958633<br>\n",
    "\n",
    "\n"
   ]
  }
 ],
 "metadata": {
  "kernelspec": {
   "display_name": "bertnews",
   "language": "python",
   "name": "python3"
  },
  "language_info": {
   "codemirror_mode": {
    "name": "ipython",
    "version": 3
   },
   "file_extension": ".py",
   "mimetype": "text/x-python",
   "name": "python",
   "nbconvert_exporter": "python",
   "pygments_lexer": "ipython3",
   "version": "3.10.12"
  }
 },
 "nbformat": 4,
 "nbformat_minor": 5
}
