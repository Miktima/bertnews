{
 "cells": [
  {
   "cell_type": "markdown",
   "id": "be6c3975",
   "metadata": {},
   "source": [
    "# Results Fine-tune masked ruBERT-tiny2"
   ]
  },
  {
   "cell_type": "markdown",
   "id": "333c2bfd",
   "metadata": {},
   "source": [
    "Загружаем библиотеки"
   ]
  },
  {
   "cell_type": "code",
   "execution_count": 1,
   "id": "1521b4a9",
   "metadata": {},
   "outputs": [],
   "source": [
    "import pandas as pd\n",
    "import numpy as np"
   ]
  },
  {
   "cell_type": "markdown",
   "id": "f23d3c50",
   "metadata": {},
   "source": [
    "691 Статья\n",
    "Chunk_size = 128\n",
    "Token Masking = 15%\n",
    "Word masking = not used\n",
    "optimizer = 5e-5\n",
    "\n",
    "Batch_size = 8\n",
    ">>> Epoch 0: Perplexity: 25.859749658270967\n",
    ">>> Epoch 1: Perplexity: 24.45774898910658\n",
    ">>> Epoch 2: Perplexity: 24.034025106023474\n",
    "\n",
    "Batch_size = 16\n",
    ">>> Epoch 0: Perplexity: 23.56299014907399\n",
    ">>> Epoch 1: Perplexity: 23.156633734027608\n",
    ">>> Epoch 2: Perplexity: 22.929135180142353\n",
    "\n",
    "Batch_size = 32\n",
    ">>> Epoch 0: Perplexity: 22.986306350727922\n",
    ">>> Epoch 1: Perplexity: 22.878367260622813\n",
    ">>> Epoch 2: Perplexity: 22.844263098751934"
   ]
  }
 ],
 "metadata": {
  "kernelspec": {
   "display_name": "bertnews",
   "language": "python",
   "name": "python3"
  },
  "language_info": {
   "codemirror_mode": {
    "name": "ipython",
    "version": 3
   },
   "file_extension": ".py",
   "mimetype": "text/x-python",
   "name": "python",
   "nbconvert_exporter": "python",
   "pygments_lexer": "ipython3",
   "version": "3.10.12"
  }
 },
 "nbformat": 4,
 "nbformat_minor": 5
}
