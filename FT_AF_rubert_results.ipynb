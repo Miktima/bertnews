{
 "cells": [
  {
   "cell_type": "markdown",
   "id": "be6c3975",
   "metadata": {},
   "source": [
    "# Results Fine-tune ai-forever/ruBert-base"
   ]
  },
  {
   "cell_type": "code",
   "execution_count": 7,
   "id": "1521b4a9",
   "metadata": {},
   "outputs": [],
   "source": [
    "import pandas as pd\n",
    "import numpy as np\n",
    "from matplotlib import pyplot as plt\n",
    "%matplotlib inline"
   ]
  },
  {
   "cell_type": "markdown",
   "id": "e4366c89",
   "metadata": {},
   "source": [
    "1634 Статей<br>\n",
    "Chunk_size = 256<br>\n",
    "Token Masking = 12%<br>\n",
    "optimizer = 3e-5<br>\n",
    "Batch_size = 8\n",
    "Perplexity: 3.200811798685207<br>"
   ]
  },
  {
   "cell_type": "markdown",
   "id": "bbcfde5b",
   "metadata": {},
   "source": [
    "1634 Статей<br>\n",
    "Chunk_size = 256<br>\n",
    "Token Masking = 15%<br>\n",
    "optimizer = 5e-5<br>\n",
    "Batch_size = 8\n",
    "Perplexity: 3.3674721185575267<br>"
   ]
  },
  {
   "cell_type": "markdown",
   "id": "c6c42eed",
   "metadata": {},
   "source": [
    "3634 Статей (2000 статей из https://github.com/RossiyaSegodnya/ria_news_dataset и 1634 статьи новой выборки)<br>\n",
    "Chunk_size = 256<br>\n",
    "Token Masking = 12%<br>\n",
    "optimizer = 3e-5<br>\n",
    "Batch_size = 8\n",
    "Perplexity: 3.2530056266641956<br>"
   ]
  },
  {
   "cell_type": "markdown",
   "id": "182da0c8",
   "metadata": {},
   "source": [
    "Статьи из https://github.com/RossiyaSegodnya/ria_news_dataset<br>\n",
    "Chunk_size = 256<br>\n",
    "Token Masking = 12%<br>\n",
    "optimizer = 3e-5<br>\n",
    "Batch_size = 8<br><br>\n",
    "1000 Статей<br>\n",
    "Perplexity: 3.490452804654668, 3.8988314680056257, 3.8569189112021864<br>\n",
    "2000 Статей<br>\n",
    "Perplexity: 3.442456078941364, 3.490684993051699, 3.5302119212107153<br>\n",
    "3000 Статей<br>\n",
    "Perplexity: 3.188283226137522<br>\n"
   ]
  },
  {
   "cell_type": "code",
   "execution_count": 10,
   "id": "c5c9aa6d",
   "metadata": {},
   "outputs": [],
   "source": [
    "a1000 = np.array([3.490452804654668, 3.8988314680056257, 3.8569189112021864])\n",
    "per1000 = np.mean(a1000)\n",
    "per1000_std = np.std(a1000)\n",
    "a2000 = np.array([3.442456078941364, 3.490684993051699, 3.5302119212107153])\n",
    "per2000 = np.mean(a2000)\n",
    "per2000_std = np.std(a2000)\n",
    "a3000 = np.array([3.188283226137522, 3, 3])\n",
    "per3000 = np.mean(a3000)\n",
    "per3000_std = np.std(a3000)"
   ]
  },
  {
   "cell_type": "markdown",
   "id": "ebee3405",
   "metadata": {},
   "source": [
    "## График дообучения по статьям из Github"
   ]
  },
  {
   "cell_type": "code",
   "execution_count": 11,
   "id": "e1064c8b",
   "metadata": {},
   "outputs": [
    {
     "data": {
      "text/plain": [
       "<ErrorbarContainer object of 3 artists>"
      ]
     },
     "execution_count": 11,
     "metadata": {},
     "output_type": "execute_result"
    },
    {
     "data": {
      "image/png": "[encoded data removed]",
      "text/plain": [
       "<Figure size 640x480 with 1 Axes>"
      ]
     },
     "metadata": {},
     "output_type": "display_data"
    }
   ],
   "source": [
    "fig, ax = plt.subplots()\n",
    "nart = [1000, 2000]\n",
    "perp = [per1000, per2000]\n",
    "perp_err = [per1000_std*3, per2000_std*3]\n",
    "ax.errorbar(nart, perp, yerr=perp_err)\n",
    "# plt.errorbar(x, y + 3, yerr=yerr, label='both limits (default)')\n",
    "# ax.plot(nart, perp)\n"
   ]
  }
 ],
 "metadata": {
  "kernelspec": {
   "display_name": "bertnews",
   "language": "python",
   "name": "python3"
  },
  "language_info": {
   "codemirror_mode": {
    "name": "ipython",
    "version": 3
   },
   "file_extension": ".py",
   "mimetype": "text/x-python",
   "name": "python",
   "nbconvert_exporter": "python",
   "pygments_lexer": "ipython3",
   "version": "3.10.12"
  }
 },
 "nbformat": 4,
 "nbformat_minor": 5
}
