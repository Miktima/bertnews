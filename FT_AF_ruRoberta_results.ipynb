{
 "cells": [
  {
   "cell_type": "markdown",
   "id": "be6c3975",
   "metadata": {},
   "source": [
    "# Results Fine-tune ai-forever/ruRoberta-large"
   ]
  },
  {
   "cell_type": "code",
   "execution_count": 13,
   "id": "1521b4a9",
   "metadata": {},
   "outputs": [],
   "source": [
    "import pandas as pd\n",
    "import numpy as np\n",
    "from matplotlib import pyplot as plt\n",
    "%matplotlib inline"
   ]
  },
  {
   "cell_type": "markdown",
   "id": "d65bbe4f",
   "metadata": {},
   "source": [
    "Chunk_size = 256<br>\n",
    "Token Masking = 15%<br>\n",
    "optimizer = 5e-5<br>\n",
    "Batch_size = 8<br><br>\n",
    "2300 Статей 2024 года +  2000 статей из https://github.com/RossiyaSegodnya/ria_news_dataset<br>\n",
    "Perplexity: 2.246943233698445<br><br>\n",
    "\n",
    "13,2 МБ Статей 2024 года +  11 МБ статей из редактуры<br>\n",
    "optimizer = 1e-4<br>\n",
    "Perplexity: 2.207619050940133<br><br>\n",
    "\n",
    "optimizer = 5e-5<br>\n",
    "Perplexity: 2.0204444723035486<br><br>"
   ]
  }
 ],
 "metadata": {
  "kernelspec": {
   "display_name": "bertnews",
   "language": "python",
   "name": "python3"
  },
  "language_info": {
   "codemirror_mode": {
    "name": "ipython",
    "version": 3
   },
   "file_extension": ".py",
   "mimetype": "text/x-python",
   "name": "python",
   "nbconvert_exporter": "python",
   "pygments_lexer": "ipython3",
   "version": "3.10.12"
  }
 },
 "nbformat": 4,
 "nbformat_minor": 5
}
