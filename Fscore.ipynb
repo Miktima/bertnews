{
 "cells": [
  {
   "cell_type": "markdown",
   "id": "be6c3975",
   "metadata": {},
   "source": [
    "# F-SCORE Results"
   ]
  },
  {
   "cell_type": "code",
   "execution_count": null,
   "id": "1521b4a9",
   "metadata": {},
   "outputs": [
    {
     "ename": "",
     "evalue": "",
     "output_type": "error",
     "traceback": [
      "\u001b[1;31mДля выполнения ячеек с \"bertnews\" требуется пакет ipykernel.\n",
      "\u001b[1;31mВыполните следующую команду, чтобы установить \"ipykernel\" в среде Python. \n",
      "\u001b[1;31mКоманда: \"c:/dev/bertnews/Scripts/python.exe -m pip install ipykernel -U --force-reinstall\""
     ]
    }
   ],
   "source": [
    "import pandas as pd\n",
    "import numpy as np\n",
    "from matplotlib import pyplot as plt\n",
    "%matplotlib inline"
   ]
  },
  {
   "cell_type": "markdown",
   "id": "b1897a00",
   "metadata": {},
   "source": [
    "## cointegrated/rubert-tiny2<br>"
   ]
  },
  {
   "cell_type": "markdown",
   "id": "da550f33",
   "metadata": {},
   "source": [
    "Fine-tune:<br>\n",
    "2936 Статей 2024 года +  2000 статей из https://github.com/RossiyaSegodnya/ria_news_dataset<br>\n",
    "+<br>\n",
    "2936 Статей 2024 года (тех же) +  5000 статей из https://github.com/RossiyaSegodnya/ria_news_dataset<br>\n",
    "334 error sentences<br>\n",
    "\n",
    "treshold = 5.0e-5<br>\n",
    "Precision:  0.2336842105263158<br>\n",
    "Recall:  0.31805157593123207<br>\n",
    "F-measure: 0.2694174757281554<br><br>\n",
    "\n",
    "treshold = 1.0e-4<br>\n",
    "Precision: 0.22866894197952217<br>\n",
    "Recall: 0.3785310734463277<br>\n",
    "F-measure: 0.2851063829787234<br><br>\n",
    "\n",
    "treshold = 5.0e-4<br>\n",
    "Precision:  0.20229405630865485<br>\n",
    "Recall:  0.5145888594164456<br>\n",
    "F-measure:  0.2904191616766467<br><br>\n",
    "\n",
    "treshold = 1.0e-3<br>\n",
    "Precision:  0.1887275832621691<br>\n",
    "Recall:  0.572538860103627<br>\n",
    "F-measure:  0.28387925497752087<br><br>\n",
    "\n",
    "treshold = 5.0e-3<br>\n",
    "Precision:  0.16167326172979085<br>\n",
    "Recall:  0.6908212560386473<br>\n",
    "F-measure:  0.2620247366010078<br>\n"
   ]
  },
  {
   "cell_type": "code",
   "execution_count": null,
   "id": "70df9d9a",
   "metadata": {},
   "outputs": [
    {
     "ename": "",
     "evalue": "",
     "output_type": "error",
     "traceback": [
      "\u001b[1;31mДля выполнения ячеек с \"bertnews\" требуется пакет ipykernel.\n",
      "\u001b[1;31mВыполните следующую команду, чтобы установить \"ipykernel\" в среде Python. \n",
      "\u001b[1;31mКоманда: \"c:/dev/bertnews/Scripts/python.exe -m pip install ipykernel -U --force-reinstall\""
     ]
    }
   ],
   "source": [
    "fig, ax = plt.subplots()\n",
    "treshold = [5e-5, 1e-4, 5e-04, 1e-3, 5e-3]\n",
    "prec = [0.2336842105263158, 0.22866894197952217, 0.20229405630865485, 0.1887275832621691, 0.16167326172979085]\n",
    "recall = [0.31805157593123207, 0.3785310734463277, 0.5145888594164456, 0.572538860103627, 0.6908212560386473]\n",
    "f1 = [0.2694174757281554, 0.2851063829787234, 0.2904191616766467, 0.28387925497752087, 0.2620247366010078]\n",
    "ax.semilogx(treshold, prec, label=\"Precision\")\n",
    "ax.semilogx(treshold, recall, label=\"Recall\")\n",
    "ax.semilogx(treshold, f1, label=\"F-score\")\n",
    "ax.legend()"
   ]
  }
 ],
 "metadata": {
  "kernelspec": {
   "display_name": "bertnews",
   "language": "python",
   "name": "python3"
  },
  "language_info": {
   "codemirror_mode": {
    "name": "ipython",
    "version": 3
   },
   "file_extension": ".py",
   "mimetype": "text/x-python",
   "name": "python",
   "nbconvert_exporter": "python",
   "pygments_lexer": "ipython3",
   "version": "3.10.12"
  }
 },
 "nbformat": 4,
 "nbformat_minor": 5
}
